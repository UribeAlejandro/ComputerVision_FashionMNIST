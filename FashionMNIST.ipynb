{
  "nbformat": 4,
  "nbformat_minor": 0,
  "metadata": {
    "kernelspec": {
      "display_name": "Python 3",
      "language": "python",
      "name": "python3"
    },
    "language_info": {
      "codemirror_mode": {
        "name": "ipython",
        "version": 3
      },
      "file_extension": ".py",
      "mimetype": "text/x-python",
      "name": "python",
      "nbconvert_exporter": "python",
      "pygments_lexer": "ipython3",
      "version": "3.8.2"
    },
    "colab": {
      "name": "FashionMNIST.ipynb",
      "provenance": []
    },
    "accelerator": "GPU"
  },
  "cells": [
    {
      "cell_type": "markdown",
      "metadata": {
        "id": "VW2OdjDH_cL_",
        "colab_type": "text"
      },
      "source": [
        "# Computer Vision - Fashion MNIST\n",
        "The current repository contains a common task within the scope of Computer Vision field: Image Detection. Other similar projects can be found in the following repositories:\n",
        "\n",
        "- [MNIST](https://github.com/UribeAlejandro/ComputerVision_MNIST)\n",
        "- [CIFAR10](https://github.com/UribeAlejandro/ComputerVision_CIFAR10)\n",
        "- [Cats vs Dogs](https://github.com/UribeAlejandro/ComputerVision_Cats_vs_Dogs)\n",
        "- [Rock Paper & Scissors](https://github.com/UribeAlejandro/ComputerVision_Rock_Paper_or_Scissors)\n",
        "\n",
        "## Fashion MNIST\n",
        "The *Fashion-MNIST* dataset contains 70,000 labeled article images. Each image is a 28×28 grayscale image, associated with a label from 10 classes. \n",
        "\n",
        "Further information about the dataset can be found in the following webpages:  \n",
        "[Fashion MNIST - Kaggle](https://www.kaggle.com/zalando-research/fashionmnist)  \n",
        "[Fashion MNIST - Zalando Research](https://research.zalando.com/welcome/mission/research-projects/fashion-mnist/)  \n",
        "[Fashion MNIST - Tensorflow Datasets](https://www.tensorflow.org/datasets/catalog/fashion_mnist)\n",
        "\n",
        "\n",
        "*All the datasets used along this notebook are open sourced.*"
      ]
    },
    {
      "cell_type": "markdown",
      "metadata": {
        "id": "KoYeyChH_cMA",
        "colab_type": "text"
      },
      "source": [
        "## Libraries & Modules"
      ]
    },
    {
      "cell_type": "code",
      "metadata": {
        "id": "uKcvlUoK_cMC",
        "colab_type": "code",
        "colab": {
          "base_uri": "https://localhost:8080/",
          "height": 71
        },
        "outputId": "d20c994a-f9a3-4744-f5c5-78da07904bf0"
      },
      "source": [
        "import numpy as np\n",
        "import pandas as pd\n",
        "import seaborn as sns\n",
        "import matplotlib.pyplot as plt\n",
        "\n",
        "#Modelling\n",
        "import tensorflow as tf\n",
        "from tensorflow import keras\n",
        "\n",
        "%matplotlib inline"
      ],
      "execution_count": 1,
      "outputs": [
        {
          "output_type": "stream",
          "text": [
            "/usr/local/lib/python3.6/dist-packages/statsmodels/tools/_testing.py:19: FutureWarning: pandas.util.testing is deprecated. Use the functions in the public API at pandas.testing instead.\n",
            "  import pandas.util.testing as tm\n"
          ],
          "name": "stderr"
        }
      ]
    },
    {
      "cell_type": "markdown",
      "metadata": {
        "id": "g-0ejkQN_cMK",
        "colab_type": "text"
      },
      "source": [
        "## User Defined Functions"
      ]
    },
    {
      "cell_type": "code",
      "metadata": {
        "id": "eYqfzJav_cML",
        "colab_type": "code",
        "colab": {}
      },
      "source": [
        "def plot_images(images_data,labels_data):\n",
        "    fig, axes = plt.subplots(1, 8,figsize=(14,2))\n",
        "    images_and_labels = list(zip(images_data[:8], labels_data[:8]))\n",
        "    for ax, (image, label) in zip(axes, images_and_labels):\n",
        "        image = image.reshape(28,28)\n",
        "        ax.set_axis_off()\n",
        "        ax.imshow(image, cmap = 'binary')\n",
        "        ax.set_title(f'Label: {label}')"
      ],
      "execution_count": 2,
      "outputs": []
    },
    {
      "cell_type": "code",
      "metadata": {
        "id": "cYLdx5gb_cMU",
        "colab_type": "code",
        "colab": {}
      },
      "source": [
        "class accuracyCallback(tf.keras.callbacks.Callback):\n",
        "    def on_epoch_end(self, epoch, logs={}):\n",
        "        if(logs.get('accuracy') > 0.998):\n",
        "            print(\"\\nReached 99.8% accuracy so cancelling training!\\n\")\n",
        "            self.model.stop_training = True"
      ],
      "execution_count": 3,
      "outputs": []
    },
    {
      "cell_type": "markdown",
      "metadata": {
        "id": "uSJ8W2YC_cMZ",
        "colab_type": "text"
      },
      "source": [
        "## Fashion MNIST\n",
        "The classification task will be tackled using *Convolutional Neural Networks - CNN* and will use two different datasets:\n",
        "- Uncompressed Images\n",
        "- Compressed Images using PCA\n",
        "\n",
        "Each approach listed above has advantages &amp; disadvantages, that will be explained further in the *Error Analysis* section."
      ]
    },
    {
      "cell_type": "markdown",
      "metadata": {
        "id": "8pOATubp_cMa",
        "colab_type": "text"
      },
      "source": [
        "### Data Loading\n",
        "Keras provides the Datasets API which allows the user to fetch open-sourced datasets, such as MNIST and Fashion MNIST. Firstly, we will use it to load the MNIST dataset. The MNIST contains:\n",
        "- *Images* that corresponds to *70,000 examples* of *28x28* and is denoted as `X`.\n",
        "- *Labels* that corresponds to a column vector which contains the *70,000* corresponding labels and is denoted as `y`.\n",
        "\n",
        "\n",
        "\\begin{equation*}\n",
        "X = \n",
        "\\begin{bmatrix}\n",
        "x_{0,0} & \\cdots & x_{0,27}\\\\\n",
        "\\vdots & \\vdots & \\vdots\\\\\n",
        "x_{27,0} & \\cdots & x_{27,27}\\\\\n",
        "\\end{bmatrix}_{70000\\times 28 \\times 28}\n",
        "\\quad\n",
        "\\quad\n",
        "y = \n",
        "\\begin{bmatrix}\n",
        "y_{0,0}\\\\\n",
        "\\vdots\\\\\n",
        "\\vdots\\\\\n",
        "\\vdots\\\\\n",
        "\\vdots\\\\\n",
        "\\vdots\\\\\n",
        "y_{69999,0}\\\\\n",
        "\\end{bmatrix}_{7000\\times 1}\n",
        "\\end{equation*}\n",
        "\n",
        "The Keras Datasets API splits the data into `training` &amp; `test` examples. It assigns *60,000* examples for `training` and *10,000* examples for `test`."
      ]
    },
    {
      "cell_type": "code",
      "metadata": {
        "id": "_91xzqXi_cMb",
        "colab_type": "code",
        "colab": {
          "base_uri": "https://localhost:8080/",
          "height": 153
        },
        "outputId": "c7c7e08b-fc2c-4770-e502-66535f9d6dc6"
      },
      "source": [
        "fashion_mnist = tf.keras.datasets.fashion_mnist\n",
        "(training_images, training_labels), (test_images, test_labels) = fashion_mnist.load_data()"
      ],
      "execution_count": 4,
      "outputs": [
        {
          "output_type": "stream",
          "text": [
            "Downloading data from https://storage.googleapis.com/tensorflow/tf-keras-datasets/train-labels-idx1-ubyte.gz\n",
            "32768/29515 [=================================] - 0s 0us/step\n",
            "Downloading data from https://storage.googleapis.com/tensorflow/tf-keras-datasets/train-images-idx3-ubyte.gz\n",
            "26427392/26421880 [==============================] - 0s 0us/step\n",
            "Downloading data from https://storage.googleapis.com/tensorflow/tf-keras-datasets/t10k-labels-idx1-ubyte.gz\n",
            "8192/5148 [===============================================] - 0s 0us/step\n",
            "Downloading data from https://storage.googleapis.com/tensorflow/tf-keras-datasets/t10k-images-idx3-ubyte.gz\n",
            "4423680/4422102 [==============================] - 0s 0us/step\n"
          ],
          "name": "stdout"
        }
      ]
    },
    {
      "cell_type": "markdown",
      "metadata": {
        "id": "EY99zVzD_cMf",
        "colab_type": "text"
      },
      "source": [
        "Let's check the type of the pixels in images and labels."
      ]
    },
    {
      "cell_type": "code",
      "metadata": {
        "id": "D7nRzOwy_cMg",
        "colab_type": "code",
        "colab": {
          "base_uri": "https://localhost:8080/",
          "height": 85
        },
        "outputId": "2a624b3d-c83c-4332-b6d0-891ba56b467c"
      },
      "source": [
        "print(f'Pixels Training images type: {type(training_images[0][0][0])}')\n",
        "print(f'Training labels type: {type(training_labels[0])}')\n",
        "print(f'Pixels Test images type: {type(test_images[0][0][0])}')\n",
        "print(f'Test labels type: {type(test_labels[0])}')"
      ],
      "execution_count": 5,
      "outputs": [
        {
          "output_type": "stream",
          "text": [
            "Pixels Training images type: <class 'numpy.uint8'>\n",
            "Training labels type: <class 'numpy.uint8'>\n",
            "Pixels Test images type: <class 'numpy.uint8'>\n",
            "Test labels type: <class 'numpy.uint8'>\n"
          ],
          "name": "stdout"
        }
      ]
    },
    {
      "cell_type": "markdown",
      "metadata": {
        "id": "kctXBq0D_cMl",
        "colab_type": "text"
      },
      "source": [
        "The pixels in images are *int8*, they will casted to *float32*."
      ]
    },
    {
      "cell_type": "code",
      "metadata": {
        "id": "RRtRoLoe_cMm",
        "colab_type": "code",
        "colab": {
          "base_uri": "https://localhost:8080/",
          "height": 51
        },
        "outputId": "a62b4fe0-8bb3-4a18-caf0-ef6dc1d77b7b"
      },
      "source": [
        "training_images, test_images = training_images.astype('float32'), test_images.astype('float32')\n",
        "\n",
        "print(f'Pixels Training images type: {type(training_images[0][0][0])}')\n",
        "print(f'Pixels Test images type: {type(test_images[0][0][0])}')"
      ],
      "execution_count": 6,
      "outputs": [
        {
          "output_type": "stream",
          "text": [
            "Pixels Training images type: <class 'numpy.float32'>\n",
            "Pixels Test images type: <class 'numpy.float32'>\n"
          ],
          "name": "stdout"
        }
      ]
    },
    {
      "cell_type": "markdown",
      "metadata": {
        "id": "i1ywTGLa_cMs",
        "colab_type": "text"
      },
      "source": [
        "The pixels will be rescaled, it will be a value between [0-1], this will improve the training process, because it reduces training time."
      ]
    },
    {
      "cell_type": "code",
      "metadata": {
        "id": "AE7pwn2t_cMt",
        "colab_type": "code",
        "colab": {}
      },
      "source": [
        "training_images, test_images = training_images / 255.0, test_images / 255.0"
      ],
      "execution_count": 7,
      "outputs": []
    },
    {
      "cell_type": "markdown",
      "metadata": {
        "id": "2R91XE9C_cMz",
        "colab_type": "text"
      },
      "source": [
        "Let's check their dimensions."
      ]
    },
    {
      "cell_type": "code",
      "metadata": {
        "id": "0ogvxqmU_cM0",
        "colab_type": "code",
        "colab": {
          "base_uri": "https://localhost:8080/",
          "height": 85
        },
        "outputId": "a43795a4-e37a-4683-e73a-7f78351091ac"
      },
      "source": [
        "print(f'Training images shape: {training_images.shape}')\n",
        "print(f'Training labels shape: {training_labels.shape}')\n",
        "print(f'Test images shape: {test_images.shape}')\n",
        "print(f'Test labels shape: {test_labels.shape}')"
      ],
      "execution_count": 8,
      "outputs": [
        {
          "output_type": "stream",
          "text": [
            "Training images shape: (60000, 28, 28)\n",
            "Training labels shape: (60000,)\n",
            "Test images shape: (10000, 28, 28)\n",
            "Test labels shape: (10000,)\n"
          ],
          "name": "stdout"
        }
      ]
    },
    {
      "cell_type": "markdown",
      "metadata": {
        "id": "zT6aRT8D_cM4",
        "colab_type": "text"
      },
      "source": [
        "The `labels` variables correspond to a *rank-1 array*, that is *(70000, )* in total. Also the `images` should be reshaped to *(70000,28,28,1)* in order to specify that there is only one color channel."
      ]
    },
    {
      "cell_type": "code",
      "metadata": {
        "id": "PxsvDzxe_cM5",
        "colab_type": "code",
        "colab": {}
      },
      "source": [
        "training_images = training_images.reshape(60000,28,28,1)\n",
        "test_images = test_images.reshape(10000,28,28,1)"
      ],
      "execution_count": 9,
      "outputs": []
    },
    {
      "cell_type": "markdown",
      "metadata": {
        "id": "bUchrZ_c_cM_",
        "colab_type": "text"
      },
      "source": [
        "Some examples of the images are shown below."
      ]
    },
    {
      "cell_type": "code",
      "metadata": {
        "id": "mTTiDgUm_cNA",
        "colab_type": "code",
        "colab": {
          "base_uri": "https://localhost:8080/",
          "height": 130
        },
        "outputId": "ea9abb48-5dc6-49bc-f26b-05e9f3379b13"
      },
      "source": [
        "plot_images(training_images,training_labels)"
      ],
      "execution_count": 10,
      "outputs": [
        {
          "output_type": "display_data",
          "data": {
            "image/png": "[encoded data removed]",
            "text/plain": [
              "<Figure size 1008x144 with 8 Axes>"
            ]
          },
          "metadata": {
            "tags": [],
            "needs_background": "light"
          }
        }
      ]
    },
    {
      "cell_type": "markdown",
      "metadata": {
        "id": "acJ1YG5G_cNJ",
        "colab_type": "text"
      },
      "source": [
        "Each label is mapped to a label, the labels are in the table below.\n",
        "\n",
        "|Class|Label|\n",
        "|:---:|:----|\n",
        "|0|T-shirt/top|\n",
        "|1|Trouser|\n",
        "|2|Pullover|\n",
        "|3|Dress|\n",
        "|4|Coat|\n",
        "|5|Sandal|\n",
        "|6|Shirt|\n",
        "|7|Sneaker|\n",
        "|8|Bag|\n",
        "|9|Ankle boot|"
      ]
    },
    {
      "cell_type": "markdown",
      "metadata": {
        "id": "6Li8WdoH_cNK",
        "colab_type": "text"
      },
      "source": [
        "The balance of different classes in the `target` variable will be checked as follows."
      ]
    },
    {
      "cell_type": "code",
      "metadata": {
        "id": "p7nIRbLF_cNK",
        "colab_type": "code",
        "colab": {
          "base_uri": "https://localhost:8080/",
          "height": 295
        },
        "outputId": "b498c391-9f13-47e4-9570-97cdaef08a01"
      },
      "source": [
        "sns.countplot(np.concatenate((training_labels, test_labels), axis=0))\n",
        "plt.title('MNIST - Target')\n",
        "plt.xlabel('Label')\n",
        "plt.show()"
      ],
      "execution_count": 11,
      "outputs": [
        {
          "output_type": "display_data",
          "data": {
            "image/png": "[encoded data removed]",
            "text/plain": [
              "<Figure size 432x288 with 1 Axes>"
            ]
          },
          "metadata": {
            "tags": [],
            "needs_background": "light"
          }
        }
      ]
    },
    {
      "cell_type": "markdown",
      "metadata": {
        "id": "LuFRxEBv_cNN",
        "colab_type": "text"
      },
      "source": [
        "The dataset will be split into *Train &amp; Validation sets*, the *Validation set* will correspond to the *10%* of the total examples."
      ]
    },
    {
      "cell_type": "code",
      "metadata": {
        "id": "9h2utoNs_cNO",
        "colab_type": "code",
        "colab": {}
      },
      "source": [
        "val_images = training_images[50000:]\n",
        "val_labels = training_labels[50000:]\n",
        "\n",
        "training_images = training_images[:50000]\n",
        "training_labels = training_labels[:50000]"
      ],
      "execution_count": 12,
      "outputs": []
    },
    {
      "cell_type": "markdown",
      "metadata": {
        "id": "99DWgk91_cNS",
        "colab_type": "text"
      },
      "source": [
        "Let's check the shapes after split."
      ]
    },
    {
      "cell_type": "code",
      "metadata": {
        "id": "nYjx8X6J_cNT",
        "colab_type": "code",
        "colab": {
          "base_uri": "https://localhost:8080/",
          "height": 119
        },
        "outputId": "1141f502-6fd7-4057-f019-366485cc9ebb"
      },
      "source": [
        "print(f'Training images shape: {training_images.shape}')\n",
        "print(f'Training labels shape: {training_labels.shape}')\n",
        "print(f'Validation images shape: {val_images.shape}')\n",
        "print(f'Validation labels shape: {val_labels.shape}')\n",
        "print(f'Test images shape: {test_images.shape}')\n",
        "print(f'Test labels shape: {test_labels.shape}')"
      ],
      "execution_count": 13,
      "outputs": [
        {
          "output_type": "stream",
          "text": [
            "Training images shape: (50000, 28, 28, 1)\n",
            "Training labels shape: (50000,)\n",
            "Validation images shape: (10000, 28, 28, 1)\n",
            "Validation labels shape: (10000,)\n",
            "Test images shape: (10000, 28, 28, 1)\n",
            "Test labels shape: (10000,)\n"
          ],
          "name": "stdout"
        }
      ]
    },
    {
      "cell_type": "markdown",
      "metadata": {
        "id": "lF9CYTIY_cNX",
        "colab_type": "text"
      },
      "source": [
        "The pixels in images correspond to a number between *[0 - 255]*, then the pixels will be rescaled as follows:"
      ]
    },
    {
      "cell_type": "markdown",
      "metadata": {
        "id": "cQ82ZSTO_cNY",
        "colab_type": "text"
      },
      "source": [
        "### Modelling\n",
        "This phase will follow two approaches, both using the same *Convolutional Neural Network architecture*:\n",
        "- Uncompressed images.\n",
        "- Compressed images using PCA.\n",
        "\n",
        "The architecture of the current Convolutional layer is shown below:\n",
        "\n",
        "![CNN](./assets/CNN.svg)\n",
        "\n",
        "The *accuracy* is the metric used to evaluate the performance of the model, the accuracy is defined as follows:\n",
        "\n",
        "\\begin{equation*}\n",
        "accuracy\\; =\\; \\dfrac{Number\\; of\\; correct\\; predictions}{Total\\; number\\; of\\; predictions}\n",
        "\\end{equation*}\n"
      ]
    },
    {
      "cell_type": "markdown",
      "metadata": {
        "id": "Fa4R-L76_cNY",
        "colab_type": "text"
      },
      "source": [
        "#### Uncompressed Images\n",
        "This approach will use rescaled images without any compression for *training*, *validation* &amp; *test* steps."
      ]
    },
    {
      "cell_type": "code",
      "metadata": {
        "id": "63zzLYAs_cNZ",
        "colab_type": "code",
        "colab": {}
      },
      "source": [
        "model = tf.keras.models.Sequential([\n",
        "    tf.keras.layers.Conv2D(64, (3,3), activation = 'relu', input_shape = (28,28,1)),\n",
        "    tf.keras.layers.MaxPooling2D(2,2),\n",
        "    tf.keras.layers.Conv2D(64, (3,3), activation = 'relu'),\n",
        "    tf.keras.layers.MaxPooling2D(2,2),\n",
        "    tf.keras.layers.Flatten(),\n",
        "    tf.keras.layers.Dense(128, activation = 'relu'),\n",
        "    tf.keras.layers.Dense(10, activation = 'softmax')])"
      ],
      "execution_count": 14,
      "outputs": []
    },
    {
      "cell_type": "markdown",
      "metadata": {
        "id": "-3jLeLsd_cNe",
        "colab_type": "text"
      },
      "source": [
        "The method *compile()* allows us to define the optimizer, the loss function, metrics, and other parameters if necessary."
      ]
    },
    {
      "cell_type": "code",
      "metadata": {
        "id": "l1Tansry_cNf",
        "colab_type": "code",
        "colab": {}
      },
      "source": [
        "model.compile(optimizer = 'adam', loss = 'sparse_categorical_crossentropy', metrics=['accuracy'])"
      ],
      "execution_count": 15,
      "outputs": []
    },
    {
      "cell_type": "markdown",
      "metadata": {
        "id": "ets08ACP_cNj",
        "colab_type": "text"
      },
      "source": [
        "The method *summary()* provides an information about the parameters of each layer and the shape of their outputs."
      ]
    },
    {
      "cell_type": "code",
      "metadata": {
        "id": "uBH35SGZ_cNk",
        "colab_type": "code",
        "colab": {
          "base_uri": "https://localhost:8080/",
          "height": 391
        },
        "outputId": "42974fc4-ce19-4ef6-fc26-c66a4643f3b5"
      },
      "source": [
        "model.summary()"
      ],
      "execution_count": 16,
      "outputs": [
        {
          "output_type": "stream",
          "text": [
            "Model: \"sequential\"\n",
            "_________________________________________________________________\n",
            "Layer (type)                 Output Shape              Param #   \n",
            "=================================================================\n",
            "conv2d (Conv2D)              (None, 26, 26, 64)        640       \n",
            "_________________________________________________________________\n",
            "max_pooling2d (MaxPooling2D) (None, 13, 13, 64)        0         \n",
            "_________________________________________________________________\n",
            "conv2d_1 (Conv2D)            (None, 11, 11, 64)        36928     \n",
            "_________________________________________________________________\n",
            "max_pooling2d_1 (MaxPooling2 (None, 5, 5, 64)          0         \n",
            "_________________________________________________________________\n",
            "flatten (Flatten)            (None, 1600)              0         \n",
            "_________________________________________________________________\n",
            "dense (Dense)                (None, 128)               204928    \n",
            "_________________________________________________________________\n",
            "dense_1 (Dense)              (None, 10)                1290      \n",
            "=================================================================\n",
            "Total params: 243,786\n",
            "Trainable params: 243,786\n",
            "Non-trainable params: 0\n",
            "_________________________________________________________________\n"
          ],
          "name": "stdout"
        }
      ]
    },
    {
      "cell_type": "markdown",
      "metadata": {
        "id": "Gm5HGsRE_cNn",
        "colab_type": "text"
      },
      "source": [
        "Let's use the \n",
        "```python\n",
        "class accuracyCallback()\n",
        "```\n",
        "to create a callback which will stop trainining the model once the *accuracy* reaches *99.8%*, which is quite high but the overfiting will be checked in the **Error Analysis** section."
      ]
    },
    {
      "cell_type": "code",
      "metadata": {
        "id": "zEkRrwnR_cNn",
        "colab_type": "code",
        "colab": {}
      },
      "source": [
        "accCallback = accuracyCallback()"
      ],
      "execution_count": 17,
      "outputs": []
    },
    {
      "cell_type": "markdown",
      "metadata": {
        "id": "qtuVDxpG_cNq",
        "colab_type": "text"
      },
      "source": [
        "The *fit()* method will train the model and the history of this step will be stored in the `history` variable in order to save the information to carry out the **Error Analysis** later. The model will be trained in *20 epochs*, but we expect to reach *99.8% accuracy* before the 15<sup>th</sup> epoch."
      ]
    },
    {
      "cell_type": "code",
      "metadata": {
        "id": "m__e-5AR_cNq",
        "colab_type": "code",
        "colab": {
          "base_uri": "https://localhost:8080/",
          "height": 697
        },
        "outputId": "464be397-9b6f-4025-c5af-c2a09e6b59e6"
      },
      "source": [
        "history = model.fit(training_images, training_labels,\n",
        "                      validation_data = (val_images, val_labels),\n",
        "                      callbacks = [accCallback],epochs = 20, verbose = 2)"
      ],
      "execution_count": 18,
      "outputs": [
        {
          "output_type": "stream",
          "text": [
            "Epoch 1/20\n",
            "1563/1563 - 5s - loss: 0.4668 - accuracy: 0.8297 - val_loss: 0.3601 - val_accuracy: 0.8679\n",
            "Epoch 2/20\n",
            "1563/1563 - 5s - loss: 0.3022 - accuracy: 0.8905 - val_loss: 0.3160 - val_accuracy: 0.8866\n",
            "Epoch 3/20\n",
            "1563/1563 - 5s - loss: 0.2582 - accuracy: 0.9049 - val_loss: 0.2808 - val_accuracy: 0.8953\n",
            "Epoch 4/20\n",
            "1563/1563 - 5s - loss: 0.2276 - accuracy: 0.9162 - val_loss: 0.2519 - val_accuracy: 0.9081\n",
            "Epoch 5/20\n",
            "1563/1563 - 5s - loss: 0.1987 - accuracy: 0.9252 - val_loss: 0.2497 - val_accuracy: 0.9069\n",
            "Epoch 6/20\n",
            "1563/1563 - 5s - loss: 0.1731 - accuracy: 0.9356 - val_loss: 0.2473 - val_accuracy: 0.9110\n",
            "Epoch 7/20\n",
            "1563/1563 - 5s - loss: 0.1522 - accuracy: 0.9441 - val_loss: 0.2815 - val_accuracy: 0.9056\n",
            "Epoch 8/20\n",
            "1563/1563 - 5s - loss: 0.1355 - accuracy: 0.9489 - val_loss: 0.2612 - val_accuracy: 0.9159\n",
            "Epoch 9/20\n",
            "1563/1563 - 5s - loss: 0.1179 - accuracy: 0.9547 - val_loss: 0.2876 - val_accuracy: 0.9087\n",
            "Epoch 10/20\n",
            "1563/1563 - 5s - loss: 0.1019 - accuracy: 0.9623 - val_loss: 0.2926 - val_accuracy: 0.9118\n",
            "Epoch 11/20\n",
            "1563/1563 - 5s - loss: 0.0904 - accuracy: 0.9663 - val_loss: 0.3056 - val_accuracy: 0.9175\n",
            "Epoch 12/20\n",
            "1563/1563 - 5s - loss: 0.0807 - accuracy: 0.9700 - val_loss: 0.3271 - val_accuracy: 0.9083\n",
            "Epoch 13/20\n",
            "1563/1563 - 5s - loss: 0.0687 - accuracy: 0.9732 - val_loss: 0.3556 - val_accuracy: 0.9124\n",
            "Epoch 14/20\n",
            "1563/1563 - 5s - loss: 0.0594 - accuracy: 0.9782 - val_loss: 0.3765 - val_accuracy: 0.9113\n",
            "Epoch 15/20\n",
            "1563/1563 - 5s - loss: 0.0563 - accuracy: 0.9782 - val_loss: 0.3779 - val_accuracy: 0.9127\n",
            "Epoch 16/20\n",
            "1563/1563 - 5s - loss: 0.0490 - accuracy: 0.9814 - val_loss: 0.3942 - val_accuracy: 0.9119\n",
            "Epoch 17/20\n",
            "1563/1563 - 5s - loss: 0.0445 - accuracy: 0.9828 - val_loss: 0.4275 - val_accuracy: 0.9127\n",
            "Epoch 18/20\n",
            "1563/1563 - 5s - loss: 0.0434 - accuracy: 0.9845 - val_loss: 0.4514 - val_accuracy: 0.9108\n",
            "Epoch 19/20\n",
            "1563/1563 - 5s - loss: 0.0397 - accuracy: 0.9854 - val_loss: 0.4770 - val_accuracy: 0.9093\n",
            "Epoch 20/20\n",
            "1563/1563 - 5s - loss: 0.0369 - accuracy: 0.9865 - val_loss: 0.4846 - val_accuracy: 0.9067\n"
          ],
          "name": "stdout"
        }
      ]
    },
    {
      "cell_type": "markdown",
      "metadata": {
        "id": "wTv5AY8v_cNt",
        "colab_type": "text"
      },
      "source": [
        "The model reached the 99.8% accuracy in less than 15 epoch and now let's check it's performance over the test set."
      ]
    },
    {
      "cell_type": "code",
      "metadata": {
        "id": "rGd2Ggi4_cNu",
        "colab_type": "code",
        "colab": {
          "base_uri": "https://localhost:8080/",
          "height": 51
        },
        "outputId": "fca8ac70-94a5-4055-fb0c-c4d22329c5b9"
      },
      "source": [
        "model.evaluate(test_images, test_labels)"
      ],
      "execution_count": 19,
      "outputs": [
        {
          "output_type": "stream",
          "text": [
            "313/313 [==============================] - 1s 2ms/step - loss: 0.4955 - accuracy: 0.9025\n"
          ],
          "name": "stdout"
        },
        {
          "output_type": "execute_result",
          "data": {
            "text/plain": [
              "[0.4954860806465149, 0.9024999737739563]"
            ]
          },
          "metadata": {
            "tags": []
          },
          "execution_count": 19
        }
      ]
    },
    {
      "cell_type": "markdown",
      "metadata": {
        "id": "yADLkaoa_cNw",
        "colab_type": "text"
      },
      "source": [
        "99.1% test set accuracy, with this result we can tell that there was no overfiting."
      ]
    },
    {
      "cell_type": "markdown",
      "metadata": {
        "id": "vcA5psC4_cNx",
        "colab_type": "text"
      },
      "source": [
        "### Error Analysis"
      ]
    },
    {
      "cell_type": "code",
      "metadata": {
        "id": "z3WgLfY-_cNx",
        "colab_type": "code",
        "colab": {
          "base_uri": "https://localhost:8080/",
          "height": 350
        },
        "outputId": "56651dd8-f4f9-40f1-fa8f-455352e6126c"
      },
      "source": [
        "fig, ax = plt.subplots(1, 2, figsize = (10, 5))\n",
        "\n",
        "ax[0].plot(history.history['loss'])\n",
        "ax[0].plot(history.history['val_loss'])\n",
        "ax[0].set_title('Model Loss - Uncompressed')\n",
        "ax[0].legend(['Train', 'Test'], loc = 'best')\n",
        "ax[0].set_ylabel('loss')\n",
        "ax[0].set_xlabel('epoch')\n",
        "\n",
        "ax[1].plot(history.history['accuracy'])\n",
        "ax[1].plot(history.history['val_accuracy'])\n",
        "ax[1].set_title('Model Accuracy -  Uncompressed')\n",
        "ax[1].set_ylabel('Accuracy')\n",
        "ax[1].set_xlabel('Epoch')\n",
        "ax[1].legend(['Train', 'Test'], loc = 'best')\n",
        "\n",
        "plt.show()"
      ],
      "execution_count": 21,
      "outputs": [
        {
          "output_type": "display_data",
          "data": {
            "image/png": "[encoded data removed]",
            "text/plain": [
              "<Figure size 720x360 with 2 Axes>"
            ]
          },
          "metadata": {
            "tags": [],
            "needs_background": "light"
          }
        }
      ]
    },
    {
      "cell_type": "code",
      "metadata": {
        "id": "-ZAMmCQ3_cN1",
        "colab_type": "code",
        "colab": {}
      },
      "source": [
        ""
      ],
      "execution_count": null,
      "outputs": []
    }
  ]
}